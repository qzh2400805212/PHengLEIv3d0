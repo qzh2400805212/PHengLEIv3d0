{
 "cells": [
  {
   "cell_type": "code",
   "execution_count": 1,
   "metadata": {},
   "outputs": [],
   "source": [
    "# get matrix property from files\n",
    "# Input: sparsityName, the name of file storing sparsity property, rank of matrix, number of non-zero elements\n",
    "#        rowName, the name of file storing row index of non-zero elements in the order of rows\n",
    "#        colName, the name of file storing column index of non-zero elements in the order of rows\n",
    "# Output: rowIndexList\n",
    "#         colIndexList\n",
    "#         dataList\n",
    "def getMatrixProperty(sparsityName, rowName, colName):\n",
    "    # read data from sparsityMatrix\n",
    "    # output: numNonZeros, number of non-zero elements; rankMatrix, rank of matrix; sparsityOfMatrix, sparsity of the matrix\n",
    "    sparseMatrixFile = open(sparsityName,'r')\n",
    "    content = sparseMatrixFile.read()\n",
    "    contentList = content.splitlines()\n",
    "    firstLine = contentList[0].split()\n",
    "    rankMatrix = int(firstLine[0])\n",
    "    numNonZeros = int(firstLine[1])\n",
    "    sparsityOfMatrix = float(numNonZeros/(rankMatrix*rankMatrix))\n",
    "    print(\"The matrix owns %d ranks and %d non-zero elements \\n\"%(rankMatrix, numNonZeros))\n",
    "    print(\"The sparsity of the matrix is %e\\n\"%(sparsityOfMatrix))\n",
    "    # read data from rowIndexMatrix and colIndexMatrix\n",
    "    # output: rowIndexList, a list of integer for recording row; colIndexList, a list of integer for recording col\n",
    "    rowMatrixFile = open(rowName,'r')\n",
    "    colMatrixFile = open(colName,'r')\n",
    "    contentRow = rowMatrixFile.read()\n",
    "    contentRowList = contentRow.splitlines()\n",
    "    contentCol = colMatrixFile.read()\n",
    "    contentColList = contentCol.splitlines()\n",
    "    rowIndexList = list()\n",
    "    colIndexList = list()\n",
    "    dataList = list()\n",
    "    for element in range(numNonZeros):\n",
    "        rowValue = int(contentRowList[element])\n",
    "        colValue = int(contentColList[element])\n",
    "        rowIndexList.append(rowValue)\n",
    "        colIndexList.append(colValue)\n",
    "        #dataList can be any value for adjacent matrix\n",
    "        dataList.append(rowValue)\n",
    "        pass\n",
    "    return rowIndexList, colIndexList, dataList"
   ]
  },
  {
   "cell_type": "code",
   "execution_count": 2,
   "metadata": {},
   "outputs": [
    {
     "name": "stdout",
     "output_type": "stream",
     "text": [
      "The matrix owns 294912 ranks and 2041344 non-zero elements \n",
      "\n",
      "The sparsity of the matrix is 2.347098e-05\n",
      "\n"
     ]
    },
    {
     "data": {
      "text/plain": [
       "<matplotlib.lines.Line2D at 0x2bd0f190ec8>"
      ]
     },
     "execution_count": 2,
     "metadata": {},
     "output_type": "execute_result"
    },
    {
     "data": {
      "image/png": "[encoded data removed]",
      "text/plain": [
       "<Figure size 432x288 with 1 Axes>"
      ]
     },
     "metadata": {
      "needs_background": "light"
     },
     "output_type": "display_data"
    }
   ],
   "source": [
    "import numpy as np\n",
    "import matplotlib.pylab as plt\n",
    "import scipy.sparse as sparse\n",
    "rowIndexList, colIndexList, dataList = getMatrixProperty('sparsityMatrix','rowIndexMatrix','colIndexMatrix')\n",
    "row_ind = np.array(rowIndexList)\n",
    "col_ind = np.array(colIndexList)\n",
    "data = np.array(dataList, dtype=int)\n",
    "mat_coo = sparse.coo_matrix((data, (row_ind, col_ind)))\n",
    "plt.spy(mat_coo, markersize=1)"
   ]
  },
  {
   "cell_type": "code",
   "execution_count": null,
   "metadata": {},
   "outputs": [],
   "source": []
  }
 ],
 "metadata": {
  "kernelspec": {
   "display_name": "Python 3",
   "language": "python",
   "name": "python3"
  },
  "language_info": {
   "codemirror_mode": {
    "name": "ipython",
    "version": 3
   },
   "file_extension": ".py",
   "mimetype": "text/x-python",
   "name": "python",
   "nbconvert_exporter": "python",
   "pygments_lexer": "ipython3",
   "version": "3.7.6"
  }
 },
 "nbformat": 4,
 "nbformat_minor": 4
}
